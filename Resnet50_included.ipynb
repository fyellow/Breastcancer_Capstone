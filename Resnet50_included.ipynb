{
  "nbformat": 4,
  "nbformat_minor": 0,
  "metadata": {
    "colab": {
      "provenance": [],
      "authorship_tag": "ABX9TyO2ohj2jZD2UgCU3WzZzcB7",
      "include_colab_link": true
    },
    "kernelspec": {
      "name": "python3",
      "display_name": "Python 3"
    },
    "language_info": {
      "name": "python"
    }
  },
  "cells": [
    {
      "cell_type": "markdown",
      "metadata": {
        "id": "view-in-github",
        "colab_type": "text"
      },
      "source": [
        "<a href=\"https://colab.research.google.com/github/fyellow/Breastcancer_Capstone/blob/main/Resnet50_included.ipynb\" target=\"_parent\"><img src=\"https://colab.research.google.com/assets/colab-badge.svg\" alt=\"Open In Colab\"/></a>"
      ]
    },
    {
      "cell_type": "markdown",
      "source": [
        "RESNET-50"
      ],
      "metadata": {
        "id": "nQZelt0GBXwG"
      }
    },
    {
      "cell_type": "code",
      "source": [
        "import tensorflow as tf\n",
        "from tensorflow import keras\n",
        "\n",
        "# Set the seed value for reproducibility\n",
        "seed_value = 42\n",
        "tf.random.set_seed(seed_value)\n",
        "\n",
        "# Load the dataset\n",
        "train_dir = 'path/to/um_bmid_gen_3/train'\n",
        "val_dir = 'path/to/um_bmid_gen_3/val'\n",
        "input_shape = (256, 256, 3)\n",
        "\n",
        "train_datagen = keras.preprocessing.image.ImageDataGenerator(\n",
        "    rescale=1./255,\n",
        "    rotation_range=20,\n",
        "    width_shift_range=0.1,\n",
        "    height_shift_range=0.1,\n",
        "    shear_range=0.1,\n",
        "    zoom_range=0.1,\n",
        "    horizontal_flip=True,\n",
        "    fill_mode='nearest'\n",
        ")\n",
        "\n",
        "val_datagen = keras.preprocessing.image.ImageDataGenerator(rescale=1./255)\n",
        "\n",
        "train_generator = train_datagen.flow_from_directory(\n",
        "    train_dir,\n",
        "    target_size=input_shape[:2],\n",
        "    batch_size=32,\n",
        "    class_mode='categorical',  # set to 'categorical' for multiple classes\n",
        "    seed=seed_value\n",
        ")\n",
        "\n",
        "val_generator = val_datagen.flow_from_directory(\n",
        "    val_dir,\n",
        "    target_size=input_shape[:2],\n",
        "    batch_size=32,\n",
        "    class_mode='categorical',  # set to 'categorical' for multiple classes\n",
        "    seed=seed_value\n",
        ")\n",
        "\n",
        "# Create the ResNet50 model\n",
        "def create_resnet_model(input_shape, num_classes):\n",
        "    base_model = keras.applications.ResNet50(\n",
        "        weights='imagenet',\n",
        "        include_top=False,\n",
        "        input_shape=input_shape\n",
        "    )\n",
        "    \n",
        "    x = base_model.output\n",
        "    x = keras.layers.GlobalAveragePooling2D()(x)\n",
        "    x = keras.layers.Dense(512, activation='relu')(x)\n",
        "    predictions = keras.layers.Dense(num_classes, activation='softmax')(x)  # set to 'softmax' for multiple classes\n",
        "\n",
        "    model = keras.models.Model(inputs=base_model.input, outputs=predictions)\n",
        "    \n",
        "    return model\n",
        "\n",
        "model = create_resnet_model(input_shape, num_classes=4)  # set to 4 for UM-BMID Gen 3 dataset\n",
        "\n",
        "# Compile the model\n",
        "model.compile(\n",
        "    loss='categorical_crossentropy',  # set to 'categorical_crossentropy' for multiple classes\n",
        "    optimizer=keras.optimizers.Adam(lr=1e-4),\n",
        "    metrics=['accuracy']\n",
        ")\n",
        "\n",
        "# Train the model\n",
        "history = model.fit(\n",
        "    train_generator,\n",
        "    steps_per_epoch=train_generator.n // train_generator.batch_size,\n",
        "    epochs=50,\n",
        "    validation_data=val_generator,\n",
        "    validation_steps=val_generator.n // val_generator.batch_size,\n",
        "    callbacks=[\n",
        "        keras.callbacks.ModelCheckpoint('resnet50_best_model.h5', save_best_only=True),\n",
        "        keras.callbacks.EarlyStopping(patience=5, restore_best_weights=True),\n",
        "        keras.callbacks.TensorBoard(log_dir='./logs')\n",
        "    ]\n",
        ")\n"
      ],
      "metadata": {
        "id": "H_uHUuYzAo8C"
      },
      "execution_count": null,
      "outputs": []
    },
    {
      "cell_type": "code",
      "source": [
        "\n",
        "# Load the test set\n",
        "import tensorflow as tf\n",
        "import numpy as np\n",
        "import os\n",
        "from tensorflow import keras\n",
        "\n",
        "# Set the seed value for reproducibility\n",
        "seed_value = 42\n",
        "tf.random.set_seed(seed_value)\n",
        "\n",
        "test_dir = 'UM_BMID_Gen_3/test'\n",
        "input_shape = (224, 224, 3)\n",
        "\n",
        "test_datagen = keras.preprocessing.image.ImageDataGenerator(rescale=1./255)\n",
        "\n",
        "test_generator = test_datagen.flow_from_directory(\n",
        "    test_dir,\n",
        "    target_size=input_shape[:2],\n",
        "    batch_size=32,\n",
        "    class_mode='binary',\n",
        "    seed=seed_value,\n",
        "    shuffle=False\n",
        ")\n",
        "\n",
        "# Load the model\n",
        "model = keras.models.load_model('resnet50_best_model.h5')\n",
        "\n",
        "# Evaluate the model on the test set\n",
        "scores = model.evaluate(test_generator, verbose=1)\n",
        "print('Test loss:', scores[0])\n",
        "print('Test accuracy:', scores[1])\n",
        "\n",
        "# Make predictions on the test set\n",
        "predictions = model.predict(test_generator, verbose=1)\n",
        "predicted_classes = np.argmax(predictions, axis=1)\n",
        "\n",
        "# Get true labels and filenames from the generator\n",
        "true_labels = test_generator.classes\n",
        "filenames = test_generator.filenames\n",
        "\n",
        "# Create a classification report\n",
        "class_names = ['benign', 'malignant']\n",
        "report = sklearn.metrics.classification_report(true_labels, predicted_classes, target_names=class_names)\n",
        "print(report)\n",
        "\n",
        "# Save the predicted classes and filenames\n",
        "np.save('predicted_classes.npy', predicted_classes)\n",
        "np.save('filenames.npy', filenames)\n",
        "\n"
      ],
      "metadata": {
        "id": "Vqd559o2_gxK"
      },
      "execution_count": null,
      "outputs": []
    },
    {
      "cell_type": "code",
      "source": [
        "!echo \"# DL_breast_cancer\" >> README.md\n",
        "!git init\n",
        "!git add README.md\n",
        "!git commit -m \"first commit\"\n",
        "!git branch -M main\n",
        "!git remote add origin https://github.com/BadrishVasu/DL_breast_cancer.git\n",
        "!git push -u origin main\n"
      ],
      "metadata": {
        "colab": {
          "base_uri": "https://localhost:8080/"
        },
        "id": "CNQ4hWAWDsKJ",
        "outputId": "2b82f15f-6bd6-46d8-dcf0-677554cc7ca6"
      },
      "execution_count": 2,
      "outputs": [
        {
          "output_type": "stream",
          "name": "stdout",
          "text": [
            "Initialized empty Git repository in /content/.git/\n",
            "\n",
            "*** Please tell me who you are.\n",
            "\n",
            "Run\n",
            "\n",
            "  git config --global user.email \"you@example.com\"\n",
            "  git config --global user.name \"Your Name\"\n",
            "\n",
            "to set your account's default identity.\n",
            "Omit --global to set the identity only in this repository.\n",
            "\n",
            "fatal: unable to auto-detect email address (got 'root@bf6e0780890b.(none)')\n",
            "error: refname refs/heads/master not found\n",
            "fatal: Branch rename failed\n",
            "error: src refspec main does not match any\n",
            "\u001b[31merror: failed to push some refs to 'https://github.com/BadrishVasu/DL_breast_cancer.git'\n",
            "\u001b[m"
          ]
        }
      ]
    }
  ]
}